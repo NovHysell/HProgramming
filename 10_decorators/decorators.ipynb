{
 "cells": [
  {
   "cell_type": "code",
   "execution_count": 1,
   "id": "b8ea9ab6",
   "metadata": {},
   "outputs": [
    {
     "name": "stdout",
     "output_type": "stream",
     "text": [
      "f took 0.40241503715515137\n"
     ]
    }
   ],
   "source": [
    "# Define a function and measure its execution time\n",
    "# A decorator recieves a function as a parameter and returns a modified function\n",
    "\n",
    "# Specific import\n",
    "from time import sleep, time\n",
    "\n",
    "def f():\n",
    "    sleep(0.4)\n",
    "\n",
    "# Get the current time\n",
    "t = time()\n",
    "f()\n",
    "print(\"f took\", time() - t)"
   ]
  },
  {
   "cell_type": "code",
   "execution_count": 2,
   "id": "4175055d",
   "metadata": {},
   "outputs": [
    {
     "name": "stdout",
     "output_type": "stream",
     "text": [
      "f took 0.20028400421142578\n"
     ]
    }
   ],
   "source": [
    "# Create another function\n",
    "def g():\n",
    "    sleep(0.2)\n",
    "\n",
    "t = time()\n",
    "g()\n",
    "print(\"f took\", time() - t)"
   ]
  },
  {
   "cell_type": "code",
   "execution_count": 4,
   "id": "c823455d",
   "metadata": {},
   "outputs": [
    {
     "name": "stdout",
     "output_type": "stream",
     "text": [
      "f took: 0.4001336097717285\n",
      "g took: 0.20009779930114746\n"
     ]
    }
   ],
   "source": [
    "# Optimize the measurements\n",
    "def measure(func):\n",
    "    t = time() # get current time\n",
    "    func() # call the received function\n",
    "    print(func.__name__, \"took:\", time() - t)\n",
    "\n",
    "measure(f)\n",
    "measure(g)"
   ]
  },
  {
   "cell_type": "code",
   "execution_count": 6,
   "id": "1707c75a",
   "metadata": {},
   "outputs": [
    {
     "name": "stdout",
     "output_type": "stream",
     "text": [
      "f2 took: 0.10008597373962402\n",
      "f2 took: 0.5000903606414795\n",
      "f2 took: 0.700096607208252\n"
     ]
    }
   ],
   "source": [
    "def f2(sleep_time = 0.1):\n",
    "    sleep(sleep_time)\n",
    "\n",
    "def measure(func, *arges, **kwargs):\n",
    "    t = time() # get current time\n",
    "    func(*arges, **kwargs) # call the received function\n",
    "    print(func.__name__, \"took:\", time() - t)\n",
    "\n",
    "measure(f2)\n",
    "measure(f2, 0.5)\n",
    "measure(f2, sleep_time = 0.7)"
   ]
  },
  {
   "cell_type": "code",
   "execution_count": null,
   "id": "a8a7a3d9",
   "metadata": {},
   "outputs": [
    {
     "name": "stdout",
     "output_type": "stream",
     "text": [
      "f2 took: 1.0000910758972168\n"
     ]
    }
   ],
   "source": [
    "# What if I want to built in measurement into a function\n",
    "\n",
    "def measure(func): # a decorator\n",
    "    def wrapper(*args, **kwargs):\n",
    "        t = time() # get current time\n",
    "        func(*args, **kwargs) # call the received function\n",
    "        print(func.__name__, \"took:\", time() - t)\n",
    "    return wrapper\n",
    "\n",
    "@measure\n",
    "def f2(sleep_time = 0.1):\n",
    "    sleep(sleep_time)\n",
    "\n",
    "f2(1)\n",
    "# A decorator takes a function as input\n",
    "# Defines a wrapper function that adds some behavior\n",
    "# Returns the wrapper function\n",
    "# Good for code reusability, separation of converns, and modularity"
   ]
  },
  {
   "cell_type": "code",
   "execution_count": null,
   "id": "b0ac5bab",
   "metadata": {},
   "outputs": [],
   "source": [
    "# Imports\n",
    "# Suppose there is a file my_module.py\n",
    "# import my_module # imports the entire module\n",
    "# import my_module\n",
    "# print(my_module.greet(\"Alice\"))\n",
    "# from my_module import item\n",
    "# Imports only specific functions, classes, or variables\n",
    "# import my_module as alias | from my_module import item as alias\n",
    "# import my_module as mm\n",
    "# from my_module import greet as say_hello\n",
    "# print(mm.greet(\"Charlie\"))\n",
    "# print(say_hello(\"Dave\"))"
   ]
  }
 ],
 "metadata": {
  "kernelspec": {
   "display_name": "Python 3",
   "language": "python",
   "name": "python3"
  },
  "language_info": {
   "codemirror_mode": {
    "name": "ipython",
    "version": 3
   },
   "file_extension": ".py",
   "mimetype": "text/x-python",
   "name": "python",
   "nbconvert_exporter": "python",
   "pygments_lexer": "ipython3",
   "version": "3.12.1"
  }
 },
 "nbformat": 4,
 "nbformat_minor": 5
}
