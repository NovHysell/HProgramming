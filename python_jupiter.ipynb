{
 "cells": [
  {
   "cell_type": "code",
   "execution_count": null,
   "id": "2242a3e0",
   "metadata": {},
   "outputs": [],
   "source": [
    "Name = \"Alice\"\n",
    "Age = 5+5\n",
    "Height = 5.9"
   ]
  },
  {
   "cell_type": "code",
   "execution_count": 4,
   "id": "a3ac97d9",
   "metadata": {},
   "outputs": [
    {
     "name": "stdout",
     "output_type": "stream",
     "text": [
      "Alice is 25\n"
     ]
    }
   ],
   "source": [
    "print(Name, \"is\", Age)"
   ]
  }
 ],
 "metadata": {
  "kernelspec": {
   "display_name": "Python 3",
   "language": "python",
   "name": "python3"
  },
  "language_info": {
   "codemirror_mode": {
    "name": "ipython",
    "version": 3
   },
   "file_extension": ".py",
   "mimetype": "text/x-python",
   "name": "python",
   "nbconvert_exporter": "python",
   "pygments_lexer": "ipython3",
   "version": "3.12.1"
  }
 },
 "nbformat": 4,
 "nbformat_minor": 5
}
