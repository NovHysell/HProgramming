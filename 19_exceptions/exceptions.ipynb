{
 "cells": [
  {
   "cell_type": "code",
   "execution_count": null,
   "id": "9f010fac",
   "metadata": {},
   "outputs": [],
   "source": [
    "a = 1\n",
    "a + \"a\"\n",
    "print(\"Very important code\")\n",
    "# try exception block\n",
    "try:\n",
    "    a = 1\n",
    "    a + \"a\"\n",
    "except TypeError as e:\n",
    "    print(e)"
   ]
  },
  {
   "cell_type": "code",
   "execution_count": null,
   "id": "3a97e639",
   "metadata": {},
   "outputs": [],
   "source": [
    "try:\n",
    "    a = 1\n",
    "    a + \"a\"\n",
    "except TypeError as e:\n",
    "    print(e)\n",
    "    print(\"Cannot add a string and an int, sorry\")\n",
    "\n",
    "print(\"very important code\")"
   ]
  }
 ],
 "metadata": {
  "language_info": {
   "name": "python"
  }
 },
 "nbformat": 4,
 "nbformat_minor": 5
}
