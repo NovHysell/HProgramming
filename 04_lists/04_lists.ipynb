{
 "cells": [
  {
   "cell_type": "code",
   "execution_count": 3,
   "id": "8262af81",
   "metadata": {},
   "outputs": [
    {
     "name": "stdout",
     "output_type": "stream",
     "text": [
      "1\n",
      "4\n",
      "9\n",
      "16\n",
      "25\n",
      "36\n",
      "49\n",
      "64\n",
      "81\n",
      "100\n"
     ]
    }
   ],
   "source": [
    "for i in range(1, 11):\n",
    "    x = (i ** 2)\n",
    "    print(x)"
   ]
  },
  {
   "cell_type": "code",
   "execution_count": 4,
   "id": "4914b60b",
   "metadata": {},
   "outputs": [],
   "source": [
    "multiplies = [x for x in range(1, 51) if x % 3 == 0 and x % 5 == 0]\n",
    "# Result: [15, 30, 45]\n",
    "# Combines the creation of a list with a for loop"
   ]
  },
  {
   "cell_type": "code",
   "execution_count": null,
   "id": "f6eb0afe",
   "metadata": {},
   "outputs": [],
   "source": [
    "num = input(\"Enter a number: \")\n",
    "for i in range(1, num):\n",
    "    x = (i ** 2)\n",
    "    print(x)"
   ]
  },
  {
   "cell_type": "code",
   "execution_count": 2,
   "id": "f3b2611d",
   "metadata": {},
   "outputs": [
    {
     "name": "stdout",
     "output_type": "stream",
     "text": [
      "[0, 1, 4, 9, 16]\n"
     ]
    }
   ],
   "source": [
    "num = input(\"Enter a number: \")\n",
    "a = [i**2 for i in range(int(num) + 1)]\n",
    "print(a)"
   ]
  },
  {
   "cell_type": "code",
   "execution_count": 8,
   "id": "661ce199",
   "metadata": {},
   "outputs": [
    {
     "name": "stdout",
     "output_type": "stream",
     "text": [
      "[1, 2, 3, 4]\n",
      "[1, 2, 1, 2]\n",
      "[2]\n",
      "3\n"
     ]
    }
   ],
   "source": [
    "list1 = [1, 2]\n",
    "list2 = [3, 4]\n",
    "print(list1 + list2)\n",
    "print(list1 * 2)\n",
    "print(list1[1:])\n",
    "print(list2[-2])"
   ]
  },
  {
   "cell_type": "code",
   "execution_count": null,
   "id": "eb9c93ab",
   "metadata": {},
   "outputs": [
    {
     "name": "stdout",
     "output_type": "stream",
     "text": [
      "[1, 2, 22, 3, 5]\n"
     ]
    }
   ],
   "source": [
    "#append() adds an element to the end of the list\n",
    "#insert() adds an element to the specified position\n",
    "num = [1, 2, 3]\n",
    "num.append(5)\n",
    "num.insert(2, 22)\n",
    "print(num)"
   ]
  },
  {
   "cell_type": "code",
   "execution_count": 10,
   "id": "fd325aed",
   "metadata": {},
   "outputs": [
    {
     "name": "stdout",
     "output_type": "stream",
     "text": [
      "[1, 2, 3]\n",
      "1\n"
     ]
    }
   ],
   "source": [
    "#remove() removes the first occurence of a specifed value\n",
    "#index() returns the index of the first occurance of a value\n",
    "numbers = [1, 2, 2, 3]\n",
    "numbers.remove(2)\n",
    "print(numbers)\n",
    "print(numbers.index(2))"
   ]
  },
  {
   "cell_type": "code",
   "execution_count": 11,
   "id": "9d85cf52",
   "metadata": {},
   "outputs": [
    {
     "name": "stdout",
     "output_type": "stream",
     "text": [
      "2\n",
      "[-1, 2, 2, 6]\n",
      "[6, 2, 2, -1]\n"
     ]
    }
   ],
   "source": [
    "#count() returns the number of occurances of a value\n",
    "#sort() and sorted() sorts the list in place or returns a new sorted list\n",
    "numbers = [2, 6, 2, -1]\n",
    "print(numbers.count(2))\n",
    "numbers.sort()\n",
    "print(numbers)\n",
    "numbers.sort(reverse = True)\n",
    "print(numbers)"
   ]
  },
  {
   "cell_type": "code",
   "execution_count": null,
   "id": "eaad0ea8",
   "metadata": {},
   "outputs": [
    {
     "name": "stdout",
     "output_type": "stream",
     "text": [
      "(1, 'hello', 3.14)\n"
     ]
    }
   ],
   "source": [
    "# A tuple is an immutable (values cannot be changed), ordered collection of items in Python\n",
    "# Defined using parentheses\n",
    "my_tuple = (1, \"hello\", 3.14)\n",
    "print(my_tuple)"
   ]
  },
  {
   "cell_type": "code",
   "execution_count": null,
   "id": "82db9dc4",
   "metadata": {},
   "outputs": [],
   "source": [
    "# Tuples are used for\n",
    "# Fixed data, memory efficiency, dictionary keys, multiple return values"
   ]
  }
 ],
 "metadata": {
  "kernelspec": {
   "display_name": "Python 3",
   "language": "python",
   "name": "python3"
  },
  "language_info": {
   "codemirror_mode": {
    "name": "ipython",
    "version": 3
   },
   "file_extension": ".py",
   "mimetype": "text/x-python",
   "name": "python",
   "nbconvert_exporter": "python",
   "pygments_lexer": "ipython3",
   "version": "3.12.1"
  }
 },
 "nbformat": 4,
 "nbformat_minor": 5
}
