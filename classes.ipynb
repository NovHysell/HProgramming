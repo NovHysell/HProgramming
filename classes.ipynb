{
 "cells": [
  {
   "cell_type": "code",
   "execution_count": null,
   "id": "7d1ad5ae",
   "metadata": {},
   "outputs": [
    {
     "name": "stdout",
     "output_type": "stream",
     "text": [
      "Woof! Woof!\n"
     ]
    }
   ],
   "source": [
    "# Dog classs\n",
    "\n",
    "class Dog:\n",
    "    def bark(self): # Instance method\n",
    "        return \"Woof! Woof!\"\n",
    "\n",
    "# Create an instance of Dog\n",
    "my_dog = Dog()\n",
    "# Call bark method\n",
    "print(my_dog.bark())"
   ]
  },
  {
   "cell_type": "code",
   "execution_count": 8,
   "id": "0c4953b6",
   "metadata": {},
   "outputs": [
    {
     "name": "stdout",
     "output_type": "stream",
     "text": [
      "100\n"
     ]
    }
   ],
   "source": [
    "class Square:\n",
    "    side = 8\n",
    "    def area(self):\n",
    "        return self.side**2\n",
    "    # Create an instance method area\n",
    "\n",
    "# Create an instance of Square\n",
    "# Print the area\n",
    "\n",
    "box = Square()\n",
    "box.side = 10\n",
    "print(box.area())"
   ]
  },
  {
   "cell_type": "code",
   "execution_count": 10,
   "id": "ebcfff2a",
   "metadata": {},
   "outputs": [
    {
     "name": "stdout",
     "output_type": "stream",
     "text": [
      "Leopold\n"
     ]
    }
   ],
   "source": [
    "# __init__ method (constructor)\n",
    "# use it to intialize the properties of a new object\n",
    "class Cat:\n",
    "    def __init__(self, name):\n",
    "        self.name = name\n",
    "\n",
    "leopold = Cat(\"Leopold\")\n",
    "print(leopold.name)"
   ]
  },
  {
   "cell_type": "code",
   "execution_count": 13,
   "id": "423afb8b",
   "metadata": {},
   "outputs": [
    {
     "name": "stdout",
     "output_type": "stream",
     "text": [
      "Ford is driving!\n"
     ]
    }
   ],
   "source": [
    "class Car:\n",
    "    def __init__(self, model):\n",
    "        self.model = model\n",
    "    def drive(self):\n",
    "        return self.model + \" is driving!\"\n",
    "\n",
    "Ford = Car(\"Ford\")\n",
    "print(Ford.drive())"
   ]
  },
  {
   "cell_type": "code",
   "execution_count": 2,
   "id": "ddeaeedc",
   "metadata": {},
   "outputs": [],
   "source": [
    "# A class ia a blueprint, template (apple pie recipie)\n",
    "# An object is an instance of a class. You can create many instances of a class (apple pie itself)\n",
    "# Define a class using the class keyword\n",
    "class Point:\n",
    "    x = 7\n",
    "    y = 10\n",
    "# Point p = 7\n",
    "p = Point()"
   ]
  },
  {
   "cell_type": "code",
   "execution_count": null,
   "id": "7863a21f",
   "metadata": {},
   "outputs": [],
   "source": [
    "# A method is a function defined inside a Python class\n",
    "# Example: A Dog class might have methods like bark() or fetch()\n",
    "# An instance method operates on an instance of the class\n",
    "# Self refers to the instance of the class calling the method\n",
    "# __init__ is a special constructor, automatically called when a new objected is created\n",
    "# Used to initialize the instance's attributes\n",
    "# Can define private data fields using two leading underscores\n",
    "#def __init__(self, balance):\n",
    "#    self.__balance = balance"
   ]
  },
  {
   "cell_type": "code",
   "execution_count": null,
   "id": "dedcb3c8",
   "metadata": {},
   "outputs": [],
   "source": [
    "# Use a getter method to retrieve the value of a private attribute\n",
    "def getPropertyName():\n",
    "# Use a setter method to set or modify the value of a private attribute\n",
    "def setPropertyName(PropertyValue):"
   ]
  },
  {
   "cell_type": "code",
   "execution_count": null,
   "id": "3d63cca0",
   "metadata": {},
   "outputs": [],
   "source": [
    "# Static methods are methods defined within a class but do not require access to instance (self)\n",
    "# Static methods are defined using the @staticmethod decorator\n",
    "class MyClass:\n",
    "    @staticmethod\n",
    "    def my_Static_method(arg1, arg2):\n",
    "        # Method logic here\n",
    "        return result"
   ]
  },
  {
   "cell_type": "code",
   "execution_count": 40,
   "id": "0df94c88",
   "metadata": {},
   "outputs": [
    {
     "name": "stdout",
     "output_type": "stream",
     "text": [
      "Warrior: Health 50, Attack 5, Defense 3, Speed 4\n"
     ]
    }
   ],
   "source": [
    "class Warrior:\n",
    "    def __init__(self, type = \"Warrior\", health = 50, attack = 5, defense = 3, speed = 4, critcial_chance = 0.1, is_alive = True):\n",
    "        self.__type = type\n",
    "        self.__health = health\n",
    "        self.__attack = attack\n",
    "        self.__defense = defense\n",
    "        self.__speed = speed\n",
    "        self.__critical_chance = critcial_chance\n",
    "        self.__is_alive = is_alive\n",
    "    def __str__(self):\n",
    "        string = self.__type + \": \"\n",
    "        string += \"Health \" + str(self.__health) + \", \"\n",
    "        string += \"Attack \" + str(self.__attack) + \", \"\n",
    "        string += \"Defense \" + str(self.__defense) + \", \"\n",
    "        string += \"Speed \" + str(self.__speed)\n",
    "        return string\n",
    "    \n",
    "sun_tzu = Warrior()\n",
    "print(sun_tzu)"
   ]
  }
 ],
 "metadata": {
  "kernelspec": {
   "display_name": "Python 3",
   "language": "python",
   "name": "python3"
  },
  "language_info": {
   "codemirror_mode": {
    "name": "ipython",
    "version": 3
   },
   "file_extension": ".py",
   "mimetype": "text/x-python",
   "name": "python",
   "nbconvert_exporter": "python",
   "pygments_lexer": "ipython3",
   "version": "3.12.1"
  }
 },
 "nbformat": 4,
 "nbformat_minor": 5
}
