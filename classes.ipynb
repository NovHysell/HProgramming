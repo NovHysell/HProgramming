{
 "cells": [
  {
   "cell_type": "code",
   "execution_count": null,
   "id": "7d1ad5ae",
   "metadata": {},
   "outputs": [
    {
     "name": "stdout",
     "output_type": "stream",
     "text": [
      "Woof! Woof!\n"
     ]
    }
   ],
   "source": [
    "# Dog classs\n",
    "\n",
    "class Dog:\n",
    "    def bark(self): # Instance method\n",
    "        return \"Woof! Woof!\"\n",
    "\n",
    "# Create an instance of Dog\n",
    "my_dog = Dog()\n",
    "# Call bark method\n",
    "print(my_dog.bark())"
   ]
  },
  {
   "cell_type": "code",
   "execution_count": 8,
   "id": "0c4953b6",
   "metadata": {},
   "outputs": [
    {
     "name": "stdout",
     "output_type": "stream",
     "text": [
      "100\n"
     ]
    }
   ],
   "source": [
    "class Square:\n",
    "    side = 8\n",
    "    def area(self):\n",
    "        return self.side**2\n",
    "    # Create an instance method area\n",
    "\n",
    "# Create an instance of Square\n",
    "# Print the area\n",
    "\n",
    "box = Square()\n",
    "box.side = 10\n",
    "print(box.area())"
   ]
  },
  {
   "cell_type": "code",
   "execution_count": 10,
   "id": "ebcfff2a",
   "metadata": {},
   "outputs": [
    {
     "name": "stdout",
     "output_type": "stream",
     "text": [
      "Leopold\n"
     ]
    }
   ],
   "source": [
    "# __init__ method (constructor)\n",
    "# use it to intialize the properties of a new object\n",
    "class Cat:\n",
    "    def __init__(self, name):\n",
    "        self.name = name\n",
    "\n",
    "leopold = Cat(\"Leopold\")\n",
    "print(leopold.name)"
   ]
  },
  {
   "cell_type": "code",
   "execution_count": 13,
   "id": "423afb8b",
   "metadata": {},
   "outputs": [
    {
     "name": "stdout",
     "output_type": "stream",
     "text": [
      "Ford is driving!\n"
     ]
    }
   ],
   "source": [
    "class Car:\n",
    "    def __init__(self, model):\n",
    "        self.model = model\n",
    "    def drive(self):\n",
    "        return self.model + \" is driving!\"\n",
    "\n",
    "Ford = Car(\"Ford\")\n",
    "print(Ford.drive())"
   ]
  }
 ],
 "metadata": {
  "kernelspec": {
   "display_name": "Python 3",
   "language": "python",
   "name": "python3"
  },
  "language_info": {
   "codemirror_mode": {
    "name": "ipython",
    "version": 3
   },
   "file_extension": ".py",
   "mimetype": "text/x-python",
   "name": "python",
   "nbconvert_exporter": "python",
   "pygments_lexer": "ipython3",
   "version": "3.12.1"
  }
 },
 "nbformat": 4,
 "nbformat_minor": 5
}
