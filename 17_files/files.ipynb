{
 "cells": [
  {
   "cell_type": "code",
   "execution_count": null,
   "id": "f34d0462",
   "metadata": {},
   "outputs": [],
   "source": [
    "# with open(\"sample.txt\", \"r\") as file:\n",
    "#   lines = file.readlines()\n",
    "# \"r\" is read, meaning it reads the file\n",
    "# \"w\" is write, meaning it creates or overrides a file\n",
    "# \"a\" is append, meaning it adds to a file\n",
    "# readlines reads the lines of a file and puts them in a list\n",
    "# write() writes a string, writelines() writes a list of strings\n",
    "# To write bytes to a file, it can be opened in binary mode\n",
    "# Use binary modes ('rb', 'wb', 'ab') for non-text files (image or audio)\n",
    "# data is handled as byte objects\n",
    "#with open(\"example.bin\", \"wb\") as fw:\n",
    "#    fw.write(b\"This is binary data...\")"
   ]
  },
  {
   "cell_type": "code",
   "execution_count": null,
   "id": "6e3b7a47",
   "metadata": {},
   "outputs": [
    {
     "name": "stdout",
     "output_type": "stream",
     "text": [
      "/workspaces/HProgramming/17_files/1.txt\n",
      "1.txt\n",
      "/workspaces/HProgramming/17_files\n",
      "/workspaces/HProgramming\n",
      ".txt\n",
      "Exists: True\n",
      "Is file: True\n",
      "Is directory: <bound method Path.is_dir of PosixPath('1.txt')>\n",
      "4.txt\n",
      "3.txt\n",
      "files.ipynb\n",
      "1.txt\n",
      "5.txt\n",
      "{i}.txt\n",
      "2.txt\n"
     ]
    },
    {
     "ename": "NameError",
     "evalue": "name 'x' is not defined",
     "output_type": "error",
     "traceback": [
      "\u001b[31m---------------------------------------------------------------------------\u001b[39m",
      "\u001b[31mNameError\u001b[39m                                 Traceback (most recent call last)",
      "\u001b[36mCell\u001b[39m\u001b[36m \u001b[39m\u001b[32mIn[8]\u001b[39m\u001b[32m, line 38\u001b[39m\n\u001b[32m     35\u001b[39m     \u001b[38;5;28;01mif\u001b[39;00m file.is_file():\n\u001b[32m     36\u001b[39m         \u001b[38;5;28mprint\u001b[39m(file.name)\n\u001b[32m---> \u001b[39m\u001b[32m38\u001b[39m files = [x.name \u001b[38;5;28;01mfor\u001b[39;00m n \u001b[38;5;129;01min\u001b[39;00m cur.parent.iterdir() \u001b[38;5;28;01mif\u001b[39;00m \u001b[43mx\u001b[49m.is_file()]\n",
      "\u001b[31mNameError\u001b[39m: name 'x' is not defined"
     ]
    }
   ],
   "source": [
    "# Create text files in the current directory\n",
    "# 1.txt 2.txt 3.txt 4.txt 5.txt\n",
    "\n",
    "for i in range (1, 6):\n",
    "    with open(f\"{i}.txt\", \"w\") as file:\n",
    "        file.write(f\"Writing into {file.name} file\")\n",
    "from pathlib import Path\n",
    "# Working with file paths\n",
    "cur = Path(\"1.txt\")\n",
    "\n",
    "# Show some Path attributes\n",
    "print(cur.absolute()) # absolute path\n",
    "print(cur.name) # file name\n",
    "print(cur.absolute().parent) # parent of the file\n",
    "print(cur.absolute().parent.parent) # grandparent of the file\n",
    "print(cur.suffix) # File extension\n",
    "\n",
    "# Methods\n",
    "print(f\"Exists: {cur.exists()}\")\n",
    "print(f\"Is file: {cur.is_file()}\")\n",
    "print(f\"Is directory: {cur.is_dir}\")\n",
    "\n",
    "# Create directories\n",
    "dir_name1 = \"dir1\"\n",
    "dir_name2 = \"dir2\"\n",
    "dir_name3 = \"dir3\"\n",
    "dirs = [dir_name1, dir_name2, dir_name3]\n",
    "for dir in dirs:\n",
    "    new_path = Path(cur.absolute().parent / dir)\n",
    "    if not new_path.exists():\n",
    "        new_path.mkdir()\n",
    "\n",
    "# Create a list of files in the current directory\n",
    "for file in cur.parent.iterdir():\n",
    "    if file.is_file():\n",
    "        print(file.name)\n",
    "\n",
    "#files = [x.name for n in cur.parent.iterdir() if x.is_file()]\n",
    "\n",
    "#with open(\"file_names.txt\", \"w\") as fl:\n",
    "#    fl.write(str(files))"
   ]
  },
  {
   "cell_type": "code",
   "execution_count": 43,
   "id": "c563e39a",
   "metadata": {},
   "outputs": [
    {
     "name": "stdout",
     "output_type": "stream",
     "text": [
      "Mike Schmidt was added to OOP course.\n",
      "Emily Stark was added to OOP course.\n",
      "Amos Wicks is not enrolled in OOP course.\n",
      "Emily Stark was removed from OOP course.\n",
      "<__main__.Course object at 0x7da6c852be00>\n"
     ]
    }
   ],
   "source": [
    "class Course:\n",
    "    __students = []\n",
    "    def __init__(self, courseName):\n",
    "        self.__courseName = courseName\n",
    "    def addStudent(self, student):\n",
    "        clear = False\n",
    "        for stu in self.__students:\n",
    "            if stu == student:\n",
    "                clear = True\n",
    "                break\n",
    "        if clear == True:\n",
    "            print(f\"{student} is already enrolled in {self.__courseName} course.\")\n",
    "        else:\n",
    "            self.__students.append(student)\n",
    "            print(f\"{student} was added to {self.__courseName} course.\")\n",
    "    def getStudents(self):\n",
    "        return self.__students\n",
    "    def getNumberOfStudents(self):\n",
    "        return len(self.__students)\n",
    "    def getCourseName(self):\n",
    "        return self.__courseName\n",
    "    def dropStudent(self, student):\n",
    "        clear = False\n",
    "        for stu in self.__students:\n",
    "            if stu == student:\n",
    "                clear = True\n",
    "                self.__students.remove(student)\n",
    "                print(f\"{student} was removed from {self.__courseName} course.\")\n",
    "                break\n",
    "        if clear == False:\n",
    "            print(f\"{student} is not enrolled in {self.__courseName} course.\")\n",
    "\n",
    "cop = Course(\"OOP\")\n",
    "cop.addStudent(\"Mike Schmidt\")\n",
    "cop.addStudent(\"Emily Stark\")\n",
    "cop.dropStudent(\"Amos Wicks\")\n",
    "cop.dropStudent(\"Emily Stark\")\n",
    "print(cop)"
   ]
  }
 ],
 "metadata": {
  "kernelspec": {
   "display_name": "Python 3",
   "language": "python",
   "name": "python3"
  },
  "language_info": {
   "codemirror_mode": {
    "name": "ipython",
    "version": 3
   },
   "file_extension": ".py",
   "mimetype": "text/x-python",
   "name": "python",
   "nbconvert_exporter": "python",
   "pygments_lexer": "ipython3",
   "version": "3.12.1"
  }
 },
 "nbformat": 4,
 "nbformat_minor": 5
}
