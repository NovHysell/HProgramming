{
 "cells": [
  {
   "cell_type": "code",
   "execution_count": null,
   "id": "2f42894d",
   "metadata": {},
   "outputs": [
    {
     "name": "stdout",
     "output_type": "stream",
     "text": [
      "/workspaces/HProgramming\n",
      "/workspaces/HProgramming/main.py 37 bytes\n",
      "/workspaces/HProgramming/08_lambda_function.py 653 bytes\n",
      "/workspaces/HProgramming/11_classes.py 560 bytes\n",
      "/workspaces/HProgramming/string_utils.py 0 bytes\n",
      "/workspaces/HProgramming/measure.py 378 bytes\n",
      "/workspaces/HProgramming/something.py 208 bytes\n",
      "/workspaces/HProgramming/map.py 1046 bytes\n",
      "/workspaces/HProgramming/14_inheritance/inheritance.py 2107 bytes\n",
      "/workspaces/HProgramming/15_course_class/fraction.py 1959 bytes\n",
      "/workspaces/HProgramming/15_course_class/course.py 729 bytes\n",
      "/workspaces/HProgramming/04_lists/all_same.py 325 bytes\n",
      "/workspaces/HProgramming/12_static_methods/class_methods.py 613 bytes\n",
      "/workspaces/HProgramming/12_static_methods/static_methods.py 560 bytes\n",
      "/workspaces/HProgramming/07_functions/function.py 638 bytes\n",
      "/workspaces/HProgramming/09_comprehensions/comprehensions.py 1020 bytes\n"
     ]
    }
   ],
   "source": [
    "# Recursive Search # JSON stands for JavaScript Object Notation\n",
    "from pathlib import Path\n",
    "p = Path(\".\").absolute().parent # based on key/value pairs\n",
    "print(p.absolute())\n",
    "\n",
    "# Find all Python files\n",
    "for py_file in p.rglob(\"*.py\"): # Any file with a .py extension\n",
    "    print(py_file, py_file.stat().st_size, \"bytes\")"
   ]
  },
  {
   "cell_type": "code",
   "execution_count": 6,
   "id": "8de87063",
   "metadata": {},
   "outputs": [],
   "source": [
    "# Create a json file\n",
    "import json\n",
    "\n",
    "# Data dictionary\n",
    "data = {}\n",
    "data[\"name\"] = \"Bob\"\n",
    "data[\"age\"] = 25\n",
    "data[\"languages\"] = [\"SQL\", \"Java\", \"Python\"]\n",
    "\n",
    "# Write into a json file\n",
    "with open(\"user.json\", \"w\") as file:\n",
    "    json.dump(data, file, indent = 4) # indent - pretty print"
   ]
  },
  {
   "cell_type": "code",
   "execution_count": 8,
   "id": "e2c74768",
   "metadata": {},
   "outputs": [
    {
     "name": "stdout",
     "output_type": "stream",
     "text": [
      "{'name': 'Bob', 'age': 25, 'languages': ['SQL', 'Java', 'Python']}\n",
      "Bob\n"
     ]
    }
   ],
   "source": [
    "# Read from a json file\n",
    "import json\n",
    "with open(\"user.json\", \"r\") as file:\n",
    "    data = json.load(file)\n",
    "\n",
    "# Access data\n",
    "print(data)\n",
    "print(data.get(\"name\", \"not found\"))"
   ]
  },
  {
   "cell_type": "code",
   "execution_count": 15,
   "id": "68b925c9",
   "metadata": {},
   "outputs": [
    {
     "name": "stdout",
     "output_type": "stream",
     "text": [
      "{'name': 'Bob', 'age': 25, 'languages': ['SQL', 'Java', 'Python'], 'hello': <__main__.Hello object at 0x7746b4177830>}\n"
     ]
    }
   ],
   "source": [
    "# Create a json file\n",
    "import json\n",
    "\n",
    "class Hello: # Doesn't know how to serialize object hello into json file\n",
    "    def __init__(self):\n",
    "        self.msg = \"Hello\"\n",
    "    def __str__(self):\n",
    "        return self.msg\n",
    "\n",
    "class HelloEncoder(json.JSONEncoder):\n",
    "    def default(self, obj):\n",
    "        if isinstance(obj, Hello):\n",
    "            return {\n",
    "                \"class\": \"Hello\",\n",
    "                \"message\": obj.__str__()\n",
    "            }\n",
    "        return super().default(obj)\n",
    "\n",
    "# Data dictionary\n",
    "data = {}\n",
    "data[\"name\"] = \"Bob\"\n",
    "data[\"age\"] = 25\n",
    "data[\"languages\"] = [\"SQL\", \"Java\", \"Python\"]\n",
    "data[\"hello\"] = Hello()\n",
    "\n",
    "# Write into a json file\n",
    "with open(\"user.json\", \"w\") as file:\n",
    "    json.dump(data, file, indent = 4, cls = HelloEncoder) # indent - pretty print\n",
    "\n",
    "# deserealization (decoding)\n",
    "def hello_decoder(obj):\n",
    "    if isinstance(obj, dict):\n",
    "        cl = obj.get(\"class\", None)\n",
    "        if cl and cl == \"Hello\":\n",
    "            return Hello()\n",
    "    return obj\n",
    "\n",
    "with open(\"user.json\", \"r\") as file:\n",
    "    data = json.load(file, object_hook=hello_decoder)\n",
    "print(data)"
   ]
  },
  {
   "cell_type": "code",
   "execution_count": 19,
   "id": "e2a01b53",
   "metadata": {},
   "outputs": [
    {
     "name": "stdout",
     "output_type": "stream",
     "text": [
      "[{'id': 1, 'name': 'Leanne Graham', 'username': 'Bret', 'email': 'Sincere@april.biz', 'address': {'street': 'Kulas Light', 'suite': 'Apt. 556', 'city': 'Gwenborough', 'zipcode': '92998-3874', 'geo': {'lat': '-37.3159', 'lng': '81.1496'}}, 'phone': '1-770-736-8031 x56442', 'website': 'hildegard.org', 'company': {'name': 'Romaguera-Crona', 'catchPhrase': 'Multi-layered client-server neural-net', 'bs': 'harness real-time e-markets'}}, {'id': 2, 'name': 'Ervin Howell', 'username': 'Antonette', 'email': 'Shanna@melissa.tv', 'address': {'street': 'Victor Plains', 'suite': 'Suite 879', 'city': 'Wisokyburgh', 'zipcode': '90566-7771', 'geo': {'lat': '-43.9509', 'lng': '-34.4618'}}, 'phone': '010-692-6593 x09125', 'website': 'anastasia.net', 'company': {'name': 'Deckow-Crist', 'catchPhrase': 'Proactive didactic contingency', 'bs': 'synergize scalable supply-chains'}}, {'id': 3, 'name': 'Clementine Bauch', 'username': 'Samantha', 'email': 'Nathan@yesenia.net', 'address': {'street': 'Douglas Extension', 'suite': 'Suite 847', 'city': 'McKenziehaven', 'zipcode': '59590-4157', 'geo': {'lat': '-68.6102', 'lng': '-47.0653'}}, 'phone': '1-463-123-4447', 'website': 'ramiro.info', 'company': {'name': 'Romaguera-Jacobson', 'catchPhrase': 'Face to face bifurcated interface', 'bs': 'e-enable strategic applications'}}, {'id': 4, 'name': 'Patricia Lebsack', 'username': 'Karianne', 'email': 'Julianne.OConner@kory.org', 'address': {'street': 'Hoeger Mall', 'suite': 'Apt. 692', 'city': 'South Elvis', 'zipcode': '53919-4257', 'geo': {'lat': '29.4572', 'lng': '-164.2990'}}, 'phone': '493-170-9623 x156', 'website': 'kale.biz', 'company': {'name': 'Robel-Corkery', 'catchPhrase': 'Multi-tiered zero tolerance productivity', 'bs': 'transition cutting-edge web services'}}, {'id': 5, 'name': 'Chelsey Dietrich', 'username': 'Kamren', 'email': 'Lucio_Hettinger@annie.ca', 'address': {'street': 'Skiles Walks', 'suite': 'Suite 351', 'city': 'Roscoeview', 'zipcode': '33263', 'geo': {'lat': '-31.8129', 'lng': '62.5342'}}, 'phone': '(254)954-1289', 'website': 'demarco.info', 'company': {'name': 'Keebler LLC', 'catchPhrase': 'User-centric fault-tolerant solution', 'bs': 'revolutionize end-to-end systems'}}, {'id': 6, 'name': 'Mrs. Dennis Schulist', 'username': 'Leopoldo_Corkery', 'email': 'Karley_Dach@jasper.info', 'address': {'street': 'Norberto Crossing', 'suite': 'Apt. 950', 'city': 'South Christy', 'zipcode': '23505-1337', 'geo': {'lat': '-71.4197', 'lng': '71.7478'}}, 'phone': '1-477-935-8478 x6430', 'website': 'ola.org', 'company': {'name': 'Considine-Lockman', 'catchPhrase': 'Synchronised bottom-line interface', 'bs': 'e-enable innovative applications'}}, {'id': 7, 'name': 'Kurtis Weissnat', 'username': 'Elwyn.Skiles', 'email': 'Telly.Hoeger@billy.biz', 'address': {'street': 'Rex Trail', 'suite': 'Suite 280', 'city': 'Howemouth', 'zipcode': '58804-1099', 'geo': {'lat': '24.8918', 'lng': '21.8984'}}, 'phone': '210.067.6132', 'website': 'elvis.io', 'company': {'name': 'Johns Group', 'catchPhrase': 'Configurable multimedia task-force', 'bs': 'generate enterprise e-tailers'}}, {'id': 8, 'name': 'Nicholas Runolfsdottir V', 'username': 'Maxime_Nienow', 'email': 'Sherwood@rosamond.me', 'address': {'street': 'Ellsworth Summit', 'suite': 'Suite 729', 'city': 'Aliyaview', 'zipcode': '45169', 'geo': {'lat': '-14.3990', 'lng': '-120.7677'}}, 'phone': '586.493.6943 x140', 'website': 'jacynthe.com', 'company': {'name': 'Abernathy Group', 'catchPhrase': 'Implemented secondary concept', 'bs': 'e-enable extensible e-tailers'}}, {'id': 9, 'name': 'Glenna Reichert', 'username': 'Delphine', 'email': 'Chaim_McDermott@dana.io', 'address': {'street': 'Dayna Park', 'suite': 'Suite 449', 'city': 'Bartholomebury', 'zipcode': '76495-3109', 'geo': {'lat': '24.6463', 'lng': '-168.8889'}}, 'phone': '(775)976-6794 x41206', 'website': 'conrad.com', 'company': {'name': 'Yost and Sons', 'catchPhrase': 'Switchable contextually-based project', 'bs': 'aggregate real-time technologies'}}, {'id': 10, 'name': 'Clementina DuBuque', 'username': 'Moriah.Stanton', 'email': 'Rey.Padberg@karina.biz', 'address': {'street': 'Kattie Turnpike', 'suite': 'Suite 198', 'city': 'Lebsackbury', 'zipcode': '31428-2261', 'geo': {'lat': '-38.2386', 'lng': '57.2232'}}, 'phone': '024-648-3804', 'website': 'ambrose.net', 'company': {'name': 'Hoeger LLC', 'catchPhrase': 'Centralized empowering task-force', 'bs': 'target end-to-end models'}}]\n"
     ]
    }
   ],
   "source": [
    "# Perform a request to a website\n",
    "import requests\n",
    "import json\n",
    "\n",
    "response = requests.get(\"https://jsonplaceholder.typicode.com/users\", None)\n",
    "\n",
    "print(response.json())\n",
    "\n",
    "with open(\"response.json\", \"w\") as file:\n",
    "    json.dump(response.json(), file, indent = 4)"
   ]
  },
  {
   "cell_type": "code",
   "execution_count": null,
   "id": "a886fa0b",
   "metadata": {},
   "outputs": [],
   "source": [
    "# TODO\n",
    "# Read the info from response.json\n",
    "# Print the list of companies names"
   ]
  }
 ],
 "metadata": {
  "kernelspec": {
   "display_name": "Python 3",
   "language": "python",
   "name": "python3"
  },
  "language_info": {
   "codemirror_mode": {
    "name": "ipython",
    "version": 3
   },
   "file_extension": ".py",
   "mimetype": "text/x-python",
   "name": "python",
   "nbconvert_exporter": "python",
   "pygments_lexer": "ipython3",
   "version": "3.12.1"
  }
 },
 "nbformat": 4,
 "nbformat_minor": 5
}
