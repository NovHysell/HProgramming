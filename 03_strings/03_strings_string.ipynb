{
 "cells": [
  {
   "cell_type": "code",
   "execution_count": null,
   "id": "a6c606ff",
   "metadata": {},
   "outputs": [
    {
     "name": "stdout",
     "output_type": "stream",
     "text": [
      "14\n"
     ]
    }
   ],
   "source": [
    "# len function - returns the number of elements in the collection\n",
    "text = \"Hello, Python!\"\n",
    "length = len(text)\n",
    "print(length)"
   ]
  },
  {
   "cell_type": "code",
   "execution_count": 4,
   "id": "b36e5064",
   "metadata": {},
   "outputs": [
    {
     "name": "stdout",
     "output_type": "stream",
     "text": [
      "K\n",
      "n\n",
      "n\n",
      "t\n"
     ]
    }
   ],
   "source": [
    "# Access string elements\n",
    "name = \"Konstantin\"\n",
    "print(name[0])\n",
    "print(name[2])\n",
    "# Use negative indices\n",
    "print(name[-1]) # The last character of the string\n",
    "print(name[-3])"
   ]
  },
  {
   "cell_type": "code",
   "execution_count": 10,
   "id": "560a06d6",
   "metadata": {},
   "outputs": [
    {
     "name": "stdout",
     "output_type": "stream",
     "text": [
      "Python\n",
      "Pyt\n",
      "thon\n",
      "thon\n",
      "Pytho\n"
     ]
    }
   ],
   "source": [
    "# String slicing\n",
    "# Specifiy the start and end of the slice\n",
    "language = \"Pytnon\"\n",
    "language = language.replace(\"n\", \"h\", 1)\n",
    "print(language)\n",
    "print(language[0:3])\n",
    "\n",
    "# what is the output\n",
    "print(language[2:len(language)])\n",
    "print(language[2:])\n",
    "print(language[:5])"
   ]
  },
  {
   "cell_type": "code",
   "execution_count": 14,
   "id": "cddee53e",
   "metadata": {},
   "outputs": [
    {
     "name": "stdout",
     "output_type": "stream",
     "text": [
      "hon\n",
      "Pto\n",
      "nhy\n",
      "nohtyP\n"
     ]
    }
   ],
   "source": [
    "# You can use negative indices \n",
    "language = \"Python\"\n",
    "print(language[-3:])\n",
    "# specify the step\n",
    "print(language[::2])\n",
    "print(language[::-2])\n",
    "# reverse a string\n",
    "print(language[::-1])"
   ]
  },
  {
   "cell_type": "code",
   "execution_count": 20,
   "id": "c1c72d3d",
   "metadata": {},
   "outputs": [
    {
     "name": "stdout",
     "output_type": "stream",
     "text": [
      "56789\n",
      "12389\n"
     ]
    }
   ],
   "source": [
    "text = \"123456789\"\n",
    "# print the second half of text\n",
    "print(text[len(text)//2:])\n",
    "# print first 3 characters + last 2 characters\n",
    "print(text[0:3] + text[-2:])"
   ]
  },
  {
   "cell_type": "code",
   "execution_count": null,
   "id": "461f155c",
   "metadata": {},
   "outputs": [
    {
     "name": "stdout",
     "output_type": "stream",
     "text": [
      "The person is a toddler\n"
     ]
    }
   ],
   "source": [
    "age = 10\n",
    "print(\"The person is a\", end=\" \")\n",
    "if age < 2:\n",
    "    print(\"baby\")\n",
    "elif age < 4:\n",
    "    print(\"toddler\")\n",
    "elif age < 13:\n",
    "    print(\"kid\")\n",
    "elif age < 20:\n",
    "    print(\"teenager\")\n",
    "else:\n",
    "    print(\"adult\")"
   ]
  },
  {
   "cell_type": "code",
   "execution_count": 10,
   "id": "21391ecb",
   "metadata": {},
   "outputs": [
    {
     "name": "stdout",
     "output_type": "stream",
     "text": [
      "Toyota\n",
      "BMW\n",
      "AUDI\n",
      "Volkswagen\n",
      "Nissan\n"
     ]
    }
   ],
   "source": [
    "# split\n",
    "makes = \"toyota, bmw, audi, volkswagen, nissan\"\n",
    "\n",
    "car_makes = makes.split(\",\") # car_makes is a list of strings\n",
    "# iterate through the list\n",
    "for make in car_makes:\n",
    "    make = make.lstrip()\n",
    "    if make == \"bmw\" or make == \"audi\":\n",
    "        print(make.upper())\n",
    "    else:\n",
    "        print(make.title())"
   ]
  },
  {
   "cell_type": "code",
   "execution_count": 11,
   "id": "efac10b2",
   "metadata": {},
   "outputs": [
    {
     "name": "stdout",
     "output_type": "stream",
     "text": [
      "Toyota\n",
      "BMW\n",
      "AUDI\n",
      "Volkswagen\n",
      "Nissan\n"
     ]
    }
   ],
   "source": [
    "makes = \"toyota, bmw, audi, volkswagen, nissan\"\n",
    "\n",
    "car_makes = makes.split(\",\") # car_makes is a list of strings\n",
    "# iterate through the list\n",
    "for make in car_makes:\n",
    "    make = make.lstrip()\n",
    "    if make in [\"bmw\", \"audi\"]:\n",
    "        print(make.upper())\n",
    "    else:\n",
    "        print(make.title())"
   ]
  },
  {
   "cell_type": "code",
   "execution_count": 17,
   "id": "c7a25efc",
   "metadata": {},
   "outputs": [
    {
     "name": "stdout",
     "output_type": "stream",
     "text": [
      "1\n",
      "4\n",
      "9\n",
      "16\n"
     ]
    }
   ],
   "source": [
    "# for loop\n",
    "# range() BIF\n",
    "for i in range(1, 20):\n",
    "    if (i * i) < 20:\n",
    "        print(i * i)\n",
    "# print all the squares from 1 to 20"
   ]
  },
  {
   "cell_type": "code",
   "execution_count": 1,
   "id": "819d2a41",
   "metadata": {},
   "outputs": [
    {
     "name": "stdout",
     "output_type": "stream",
     "text": [
      "4UR5L\n"
     ]
    }
   ],
   "source": [
    "s = \"4KAUL3RPZ5LWL\"\n",
    "attend = s[::3]\n",
    "print(attend)"
   ]
  }
 ],
 "metadata": {
  "kernelspec": {
   "display_name": "Python 3",
   "language": "python",
   "name": "python3"
  },
  "language_info": {
   "codemirror_mode": {
    "name": "ipython",
    "version": 3
   },
   "file_extension": ".py",
   "mimetype": "text/x-python",
   "name": "python",
   "nbconvert_exporter": "python",
   "pygments_lexer": "ipython3",
   "version": "3.12.1"
  }
 },
 "nbformat": 4,
 "nbformat_minor": 5
}
