{
 "cells": [
  {
   "cell_type": "code",
   "execution_count": null,
   "id": "a7df4003",
   "metadata": {},
   "outputs": [],
   "source": [
    "# Cryptography is the practice of securing information by transforming it into a \n",
    "# format unreadable to unauthorized parties\n",
    "# In Python, the standard library and third-party packages provide powerful tools\n",
    "# to implement encryption\n",
    "# Without cryptography, confidentiality is lost, integrity is compromised, authenticity is questionable"
   ]
  },
  {
   "cell_type": "code",
   "execution_count": null,
   "id": "1a4cc2ac",
   "metadata": {},
   "outputs": [],
   "source": [
    "# hashlib module\n",
    "# Hash is a fingerprint of a file or value\n",
    "# A hash function is a mathematical function that takes an input and produces a fixed-size output, called a hash value, hash digest, or hash.\n",
    "# All bytes in files are combined to create fixed-length hash value\n",
    "# If hash of two files match, the hashes are identical.\n",
    "# Hash algorithims should be deterministic, irreversible, collision resistant, and fast to compute"
   ]
  },
  {
   "cell_type": "code",
   "execution_count": 1,
   "id": "043a96cb",
   "metadata": {},
   "outputs": [
    {
     "name": "stdout",
     "output_type": "stream",
     "text": [
      "{'blake2s', 'shake_256', 'sha3_384', 'md5', 'sha384', 'sha256', 'sha3_512', 'sha3_224', 'sha3_256', 'sha1', 'sha224', 'shake_128', 'sha512', 'blake2b'}\n"
     ]
    }
   ],
   "source": [
    "# will be using sha256\n",
    "import hashlib\n",
    "print(hashlib.algorithms_guaranteed)"
   ]
  },
  {
   "cell_type": "code",
   "execution_count": 8,
   "id": "fcb337c4",
   "metadata": {},
   "outputs": [
    {
     "name": "stdout",
     "output_type": "stream",
     "text": [
      "dffd6021bb2bd5b0af676290809ec3a53191dd81c7f70a4b28688a362182986f\n",
      "f16c3bb0532537acd5b2e418f2b1235b29181e35cffee7cc29d84de4a1d62e4d\n",
      "Hello, World? b'Hello, World?'\n"
     ]
    }
   ],
   "source": [
    "import hashlib\n",
    "\n",
    "msg = \"Hello, World!\"\n",
    "b_msg = bytes(msg, \"utf-8\")\n",
    "\n",
    "hash_value = hashlib.sha256(b_msg).hexdigest()\n",
    "print(hash_value)\n",
    "\n",
    "msg = \"Hello, World?\"\n",
    "b_msg = bytes(msg, \"utf-8\")\n",
    "\n",
    "hash_value = hashlib.sha256(b_msg).hexdigest()\n",
    "print(hash_value)\n",
    "\n",
    "print(msg, b_msg)"
   ]
  },
  {
   "cell_type": "code",
   "execution_count": 12,
   "id": "9631316e",
   "metadata": {},
   "outputs": [
    {
     "name": "stdout",
     "output_type": "stream",
     "text": [
      "7f504baa0103d5b35213145c9f7c4fc7e4be0a9dc1a9fe1234985544f7402294\n",
      "3ac94f1c60dc8cd44b1f26b1a74732dcf7f36bc2de670ddc92d9bd17d550aba3\n"
     ]
    }
   ],
   "source": [
    "import hashlib\n",
    "\n",
    "# Create a file\n",
    "with open(\"test.txt\", \"w\") as file:\n",
    "    file.write(\"Secret data inside a file! My password is 123456!! Nobody should see it!\")\n",
    "\n",
    "# Open the file for reading\n",
    "with open(\"test.txt\", \"rb\") as file: # rb means read binary\n",
    "    file_content = file.read()\n",
    "\n",
    "# Create a hash of file content\n",
    "hash_value = hashlib.sha256(file_content)\n",
    "print(hash_value.hexdigest())\n",
    "\n",
    "with open(\"test.txt\", \"a\") as file:\n",
    "    file.write(\"New info\")\n",
    "\n",
    "with open(\"test.txt\", \"rb\") as file: # rb means read binary\n",
    "    file_content = file.read()\n",
    "\n",
    "hash_value = hashlib.sha256(file_content)\n",
    "print(hash_value.hexdigest())"
   ]
  }
 ],
 "metadata": {
  "kernelspec": {
   "display_name": "Python 3",
   "language": "python",
   "name": "python3"
  },
  "language_info": {
   "codemirror_mode": {
    "name": "ipython",
    "version": 3
   },
   "file_extension": ".py",
   "mimetype": "text/x-python",
   "name": "python",
   "nbconvert_exporter": "python",
   "pygments_lexer": "ipython3",
   "version": "3.12.1"
  }
 },
 "nbformat": 4,
 "nbformat_minor": 5
}
