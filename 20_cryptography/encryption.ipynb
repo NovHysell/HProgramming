{
 "cells": [
  {
   "cell_type": "code",
   "execution_count": null,
   "id": "a7df4003",
   "metadata": {},
   "outputs": [],
   "source": [
    "# Cryptography is the practice of securing information by transforming it into a \n",
    "# format unreadable to unauthorized parties\n",
    "# Alice sends Bob: message + SHA256(message)\n",
    "# Eve changes message -> recalculates hash -> Bob accepts!\n",
    "# In Python, the standard library and third-party packages provide powerful tools\n",
    "# to implement encryption\n",
    "# Without cryptography, confidentiality is lost, integrity is compromised, authenticity is questionable"
   ]
  },
  {
   "cell_type": "code",
   "execution_count": null,
   "id": "1a4cc2ac",
   "metadata": {},
   "outputs": [],
   "source": [
    "# hashlib module\n",
    "# Hash is a fingerprint of a file or value\n",
    "# A hash function is a mathematical function that takes an input and produces a fixed-size output, called a hash value, hash digest, or hash.\n",
    "# All bytes in files are combined to create fixed-length hash value\n",
    "# If hash of two files match, the hashes are identical.\n",
    "# Hash algorithims should be deterministic, irreversible, collision resistant, and fast to compute"
   ]
  },
  {
   "cell_type": "code",
   "execution_count": null,
   "id": "043a96cb",
   "metadata": {},
   "outputs": [
    {
     "name": "stdout",
     "output_type": "stream",
     "text": [
      "{'blake2s', 'shake_256', 'sha3_384', 'md5', 'sha384', 'sha256', 'sha3_512', 'sha3_224', 'sha3_256', 'sha1', 'sha224', 'shake_128', 'sha512', 'blake2b'}\n"
     ]
    }
   ],
   "source": [
    "# will be using sha256, because it's common\n",
    "import hashlib\n",
    "print(hashlib.algorithms_guaranteed)"
   ]
  },
  {
   "cell_type": "code",
   "execution_count": 8,
   "id": "fcb337c4",
   "metadata": {},
   "outputs": [
    {
     "name": "stdout",
     "output_type": "stream",
     "text": [
      "dffd6021bb2bd5b0af676290809ec3a53191dd81c7f70a4b28688a362182986f\n",
      "f16c3bb0532537acd5b2e418f2b1235b29181e35cffee7cc29d84de4a1d62e4d\n",
      "Hello, World? b'Hello, World?'\n"
     ]
    }
   ],
   "source": [
    "import hashlib\n",
    "\n",
    "msg = \"Hello, World!\"\n",
    "b_msg = bytes(msg, \"utf-8\")\n",
    "\n",
    "hash_value = hashlib.sha256(b_msg).hexdigest()\n",
    "print(hash_value)\n",
    "\n",
    "msg = \"Hello, World?\"\n",
    "b_msg = bytes(msg, \"utf-8\")\n",
    "\n",
    "hash_value = hashlib.sha256(b_msg).hexdigest()\n",
    "print(hash_value)\n",
    "\n",
    "print(msg, b_msg)"
   ]
  },
  {
   "cell_type": "code",
   "execution_count": 12,
   "id": "9631316e",
   "metadata": {},
   "outputs": [
    {
     "name": "stdout",
     "output_type": "stream",
     "text": [
      "7f504baa0103d5b35213145c9f7c4fc7e4be0a9dc1a9fe1234985544f7402294\n",
      "3ac94f1c60dc8cd44b1f26b1a74732dcf7f36bc2de670ddc92d9bd17d550aba3\n"
     ]
    }
   ],
   "source": [
    "import hashlib\n",
    "\n",
    "# Create a file\n",
    "with open(\"test.txt\", \"w\") as file:\n",
    "    file.write(\"Secret data inside a file! My password is 123456!! Nobody should see it!\")\n",
    "\n",
    "# Open the file for reading\n",
    "with open(\"test.txt\", \"rb\") as file: # rb means read binary\n",
    "    file_content = file.read()\n",
    "\n",
    "# Create a hash of file content\n",
    "hash_value = hashlib.sha256(file_content)\n",
    "print(hash_value.hexdigest())\n",
    "\n",
    "with open(\"test.txt\", \"a\") as file:\n",
    "    file.write(\"New info\")\n",
    "\n",
    "with open(\"test.txt\", \"rb\") as file: # rb means read binary\n",
    "    file_content = file.read()\n",
    "\n",
    "hash_value = hashlib.sha256(file_content)\n",
    "print(hash_value.hexdigest())"
   ]
  },
  {
   "cell_type": "code",
   "execution_count": null,
   "id": "020bc6d3",
   "metadata": {},
   "outputs": [],
   "source": [
    "# Anyone can compute the hash! -> No authenticity\n",
    "# Hash = Integrity\n",
    "# Hash + Secret Key = Authentication\n",
    "# Authenticity verifies the integrity (no mods) and source attribution (who sent it) of the data\n",
    "# Hash the message with a secret key inside the hash process"
   ]
  },
  {
   "cell_type": "code",
   "execution_count": null,
   "id": "9508d176",
   "metadata": {},
   "outputs": [],
   "source": [
    "# new() -> creates a new HMAC object\n",
    "# key -> secret shared between sender and reciever (must be bytes)\n",
    "# msg -> the actual data (message, file, command)\n",
    "# hashlib.sha257 -> which hash function to use inside HMAC\n",
    "# We exhcange keys securely by creating a pair of keys\n",
    "# A private key and a public key"
   ]
  },
  {
   "cell_type": "code",
   "execution_count": null,
   "id": "f37e3089",
   "metadata": {},
   "outputs": [],
   "source": [
    "# Bob creates a key pair\n",
    "# Bob sends the public key to Alice\n",
    "# Alice generates a Random Symmetric Key\n",
    "# Alice encrypts K with Bob's public key\n",
    "# Alice sends cyphertext to Bob\n",
    "# Bob decrypts with his private key"
   ]
  },
  {
   "cell_type": "code",
   "execution_count": null,
   "id": "2e94d69f",
   "metadata": {},
   "outputs": [],
   "source": [
    "# All based on prime factorization\n",
    "# N = p * q | Public Key = (N, e) | Private Key = (N, d)\n",
    "# encrypt(message, e, N) -> ciphertext\n",
    "# decrypt(ciphertext, d, N) -> message\n",
    "# Knowing N and e, cannot compute d (hard math problem)"
   ]
  },
  {
   "cell_type": "code",
   "execution_count": 4,
   "id": "1bd0e8fd",
   "metadata": {},
   "outputs": [
    {
     "name": "stdout",
     "output_type": "stream",
     "text": [
      "Public key (e, n):  {(17, 3233)}\n",
      "Private key (d, n):  {(2753, 3233)}\n",
      "Original: 11 -> Encrypted: 3061, Decrypted: 11\n"
     ]
    }
   ],
   "source": [
    "def generate_keys():\n",
    "    # Take 2 prime numbers\n",
    "    p = 61\n",
    "    q = 53\n",
    "\n",
    "    # Calculate the product of primes\n",
    "    n = p * q # 3233\n",
    "\n",
    "    # Let's create a public component\n",
    "    # It should be coprime of n (gcd(n, e) = 1)\n",
    "    e = 17\n",
    "\n",
    "    # Calculate the private component\n",
    "    phi = (p - 1) * (q - 1)\n",
    "    d = pow(e, -1, phi)\n",
    "\n",
    "    return (e, n), (d, n) # (public), (private)\n",
    "\n",
    "def encrypt(msg, public_key):\n",
    "    e, n = public_key\n",
    "    return pow(msg, e, n)\n",
    "\n",
    "def decrypt(msg, private_key):\n",
    "    d, n = private_key\n",
    "    return pow(msg, d, n)\n",
    "\n",
    "msg = 11 # data that we want to send\n",
    "# e is shared with everyone, nobody knows d\n",
    "\n",
    "public_key, private_key = generate_keys()\n",
    "print(f\"Public key (e, n): \", {public_key})\n",
    "print(f\"Private key (d, n): \", {private_key})\n",
    "\n",
    "ciphertext = encrypt(msg, public_key)\n",
    "decrypted = decrypt(ciphertext, private_key)\n",
    "print(f\"Original: {msg} -> Encrypted: {ciphertext}, Decrypted: {decrypted}\")"
   ]
  },
  {
   "cell_type": "code",
   "execution_count": null,
   "id": "82199e70",
   "metadata": {},
   "outputs": [],
   "source": [
    "# Secure Key Exchange (RSA)\n",
    "# from cryptography.hazmat.primitives.asymmetric import rsa, padding\n",
    "# from cryptography.hazmat.primitives.asymmetric import hashes, serialization\n",
    "\n",
    "# Generate pair\n",
    "# private_key = rsa.generate_private_key(65537, 2048)\n",
    "# public_key = private_key.public_key()\n",
    "\n",
    "# Send: public_key.public_bytes()"
   ]
  }
 ],
 "metadata": {
  "kernelspec": {
   "display_name": "Python 3",
   "language": "python",
   "name": "python3"
  },
  "language_info": {
   "codemirror_mode": {
    "name": "ipython",
    "version": 3
   },
   "file_extension": ".py",
   "mimetype": "text/x-python",
   "name": "python",
   "nbconvert_exporter": "python",
   "pygments_lexer": "ipython3",
   "version": "3.12.1"
  }
 },
 "nbformat": 4,
 "nbformat_minor": 5
}
