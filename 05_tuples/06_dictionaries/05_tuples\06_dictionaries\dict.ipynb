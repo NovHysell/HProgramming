{
 "cells": [
  {
   "cell_type": "code",
   "execution_count": 3,
   "id": "7ef10dfc",
   "metadata": {},
   "outputs": [
    {
     "name": "stdout",
     "output_type": "stream",
     "text": [
      "{'name': 'Jack', 'age': 25, 'city': 'Lakeland'}\n",
      "{'name': 'Anna', 'age': 19, 'city': 'Orlando'}\n"
     ]
    }
   ],
   "source": [
    "# Create a dictionary\n",
    "my_dict = {\"name\": \"Jack\", \"age\": 25, \"city\": \"Lakeland\"}\n",
    "\n",
    "my_dict2 = dict(name = \"Anna\", age = 19, city = \"Orlando\")\n",
    "\n",
    "print(my_dict)\n",
    "print(my_dict2)"
   ]
  }
 ],
 "metadata": {
  "kernelspec": {
   "display_name": "Python 3",
   "language": "python",
   "name": "python3"
  },
  "language_info": {
   "codemirror_mode": {
    "name": "ipython",
    "version": 3
   },
   "file_extension": ".py",
   "mimetype": "text/x-python",
   "name": "python",
   "nbconvert_exporter": "python",
   "pygments_lexer": "ipython3",
   "version": "3.12.1"
  }
 },
 "nbformat": 4,
 "nbformat_minor": 5
}
