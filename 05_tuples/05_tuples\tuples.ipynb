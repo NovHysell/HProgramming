{
 "cells": [
  {
   "cell_type": "code",
   "execution_count": null,
   "id": "c145a9f8",
   "metadata": {},
   "outputs": [],
   "source": [
    "# A tuple is an immutable (values cannot be changed), ordered collection of items in Python\n",
    "# Defined using parentheses\n",
    "my_tuple = (1, \"hello\", 3.14)\n",
    "print(my_tuple)"
   ]
  },
  {
   "cell_type": "code",
   "execution_count": null,
   "id": "95f3a0cb",
   "metadata": {},
   "outputs": [],
   "source": [
    "# Tuples are used for\n",
    "# Fixed data, memory efficiency, dictionary keys, multiple return values"
   ]
  },
  {
   "cell_type": "code",
   "execution_count": 7,
   "id": "ff1f0d3d",
   "metadata": {},
   "outputs": [
    {
     "name": "stdout",
     "output_type": "stream",
     "text": [
      "1\n",
      "True\n",
      "False\n",
      "1 2 Hello 3.4\n",
      "hello\n"
     ]
    }
   ],
   "source": [
    "# Create a tuple\n",
    "my_tuple = (1, 2, \"Hello\", 3.4)\n",
    "\n",
    "print(my_tuple[0])\n",
    "# Cannot modify the values\n",
    "# my_tuple[1] = 9\n",
    "\n",
    "# Membership Testing\n",
    "print(1 in my_tuple)\n",
    "print(5 in my_tuple)\n",
    "\n",
    "# Tuple Unpacking\n",
    "a, b, c, d = my_tuple\n",
    "print(a, b, c, d)\n",
    "print(c.lower())"
   ]
  },
  {
   "cell_type": "code",
   "execution_count": 8,
   "id": "2dc4ac8e",
   "metadata": {},
   "outputs": [
    {
     "name": "stdout",
     "output_type": "stream",
     "text": [
      "2\n"
     ]
    }
   ],
   "source": [
    "# Nested Tuple\n",
    "points = (\n",
    "    (1, 2, 3),\n",
    "    (4, 5, 6),\n",
    "    (7, 8, 9)\n",
    ")\n",
    "print(points[0][1])"
   ]
  },
  {
   "cell_type": "code",
   "execution_count": null,
   "id": "fc877473",
   "metadata": {},
   "outputs": [],
   "source": [
    "# A dictionary is a mutable, unordered collection of key-value pairs\n",
    "# Used to store data in a way that allows fast retrieval using unique keys\n",
    "# Keys must be immutable (Strings, numbers, tuples)\n",
    "# Values can be of any type (strings, lists, integers, other dictionaries)"
   ]
  }
 ],
 "metadata": {
  "kernelspec": {
   "display_name": "Python 3",
   "language": "python",
   "name": "python3"
  },
  "language_info": {
   "codemirror_mode": {
    "name": "ipython",
    "version": 3
   },
   "file_extension": ".py",
   "mimetype": "text/x-python",
   "name": "python",
   "nbconvert_exporter": "python",
   "pygments_lexer": "ipython3",
   "version": "3.12.1"
  }
 },
 "nbformat": 4,
 "nbformat_minor": 5
}
